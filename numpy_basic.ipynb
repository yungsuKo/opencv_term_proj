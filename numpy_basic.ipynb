{
 "cells": [
  {
   "cell_type": "code",
   "execution_count": 7,
   "id": "4dbc4b3a-cb5e-42ad-9e54-b471052d7b54",
   "metadata": {},
   "outputs": [
    {
     "name": "stdout",
     "output_type": "stream",
     "text": [
      "python version :    2.058[ms]\n",
      "numpy  version :    0.072[ms]\n",
      "numpy is  28.6 times faster than pure python\n"
     ]
    }
   ],
   "source": [
    "import numpy as np\n",
    "import timeit as ti\n",
    "size_of_vec = 1000\n",
    "\n",
    "def py_version():\n",
    "    A, B = range(size_of_vec), range(size_of_vec)\n",
    "    C = []\n",
    "    for i in range(size_of_vec):\n",
    "        C.append(A[i] + B[i])\n",
    "\n",
    "def np_version():\n",
    "    A, B = np.arange(size_of_vec), np.arange(size_of_vec)\n",
    "    C = A+B\n",
    "\n",
    "t_py = ti.timeit('py_version()', setup='from __main__ import py_version', number=100)\n",
    "t_np = ti.timeit('np_version()', setup='from __main__ import np_version', number=100)\n",
    "\n",
    "print(f'python version : {t_py*100:8.3f}[ms]')\n",
    "print(f'numpy  version : {t_np*100:8.3f}[ms]')\n",
    "print(f'numpy is {t_py / t_np:5.1f} times faster than pure python')"
   ]
  },
  {
   "cell_type": "code",
   "execution_count": null,
   "id": "22a5071d-a9b8-46f2-8881-a2fe15197453",
   "metadata": {},
   "outputs": [],
   "source": []
  }
 ],
 "metadata": {
  "kernelspec": {
   "display_name": "Python 3 (ipykernel)",
   "language": "python",
   "name": "python3"
  },
  "language_info": {
   "codemirror_mode": {
    "name": "ipython",
    "version": 3
   },
   "file_extension": ".py",
   "mimetype": "text/x-python",
   "name": "python",
   "nbconvert_exporter": "python",
   "pygments_lexer": "ipython3",
   "version": "3.12.4"
  }
 },
 "nbformat": 4,
 "nbformat_minor": 5
}

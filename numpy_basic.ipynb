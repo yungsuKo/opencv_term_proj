{
 "cells": [
  {
   "cell_type": "code",
   "execution_count": 7,
   "id": "4dbc4b3a-cb5e-42ad-9e54-b471052d7b54",
   "metadata": {},
   "outputs": [
    {
     "name": "stdout",
     "output_type": "stream",
     "text": [
      "python version :    2.058[ms]\n",
      "numpy  version :    0.072[ms]\n",
      "numpy is  28.6 times faster than pure python\n"
     ]
    }
   ],
   "source": [
    "import numpy as np\n",
    "import timeit as ti\n",
    "size_of_vec = 1000\n",
    "\n",
    "def py_version():\n",
    "    A, B = range(size_of_vec), range(size_of_vec)\n",
    "    C = []\n",
    "    for i in range(size_of_vec):\n",
    "        C.append(A[i] + B[i])\n",
    "\n",
    "def np_version():\n",
    "    A, B = np.arange(size_of_vec), np.arange(size_of_vec)\n",
    "    C = A+B\n",
    "\n",
    "t_py = ti.timeit('py_version()', setup='from __main__ import py_version', number=100)\n",
    "t_np = ti.timeit('np_version()', setup='from __main__ import np_version', number=100)\n",
    "\n",
    "print(f'python version : {t_py*100:8.3f}[ms]')\n",
    "print(f'numpy  version : {t_np*100:8.3f}[ms]')\n",
    "print(f'numpy is {t_py / t_np:5.1f} times faster than pure python')"
   ]
  },
  {
   "cell_type": "code",
   "execution_count": 19,
   "id": "22a5071d-a9b8-46f2-8881-a2fe15197453",
   "metadata": {},
   "outputs": [
    {
     "name": "stdout",
     "output_type": "stream",
     "text": [
      "0\n"
     ]
    }
   ],
   "source": [
    "# 배열의 생성 array(Data) 메서드 사용함.\n",
    "# data : 수치형 , 리스트, 튜플 등의 파이썬 자료형 데이터\n",
    "\n",
    "x= np.array(43)\n",
    "# 0차원의 데이터\n",
    "print(np.ndim(x))"
   ]
  },
  {
   "cell_type": "code",
   "execution_count": 23,
   "id": "0c1ea2b8-9444-46a9-8160-7df68da1abbd",
   "metadata": {},
   "outputs": [
    {
     "name": "stdout",
     "output_type": "stream",
     "text": [
      "int64\n",
      "1\n"
     ]
    }
   ],
   "source": [
    "# 1차원abs\n",
    "F = np.array([1,2,3,4,5])\n",
    "print(F.dtype)\n",
    "print(np.ndim(F))"
   ]
  },
  {
   "cell_type": "code",
   "execution_count": 25,
   "id": "955214e1-877d-413f-9f02-e29e6c10a69d",
   "metadata": {},
   "outputs": [
    {
     "name": "stdout",
     "output_type": "stream",
     "text": [
      "[[[111 112]\n",
      "  [121 122]]\n",
      "\n",
      " [[211 212]\n",
      "  [221 222]]\n",
      "\n",
      " [[311 312]\n",
      "  [321 322]]]\n",
      "3\n"
     ]
    }
   ],
   "source": [
    "# 리스트로 다차원 배열 만들기abs\n",
    "B = np.array([ [[111, 112], [121, 122]],\n",
    "[[211, 212], [221, 222]],\n",
    "[[311, 312], [321, 322]] ])\n",
    "print(B)\n",
    "print(B.ndim)"
   ]
  },
  {
   "cell_type": "code",
   "execution_count": 31,
   "id": "40a42145-7dfa-48d4-a585-f9e07e9a728e",
   "metadata": {},
   "outputs": [
    {
     "name": "stdout",
     "output_type": "stream",
     "text": [
      "[0.  0.5 1. ]\n"
     ]
    }
   ],
   "source": [
    "# arange 함수 : 내장함수 Range와 다르게 float형도 가능함.abs\n",
    "ary = np.arange(0, 1.1, 0.5, np.float32)\n",
    "print(ary)"
   ]
  },
  {
   "cell_type": "code",
   "execution_count": 35,
   "id": "f5e56982-edb5-499e-90e6-02ad5c72000a",
   "metadata": {},
   "outputs": [
    {
     "name": "stdout",
     "output_type": "stream",
     "text": [
      "[ 1.   2.5  4.   5.5  7.   8.5 10. ]\n"
     ]
    }
   ],
   "source": [
    "# linspace 메서드 : 주어진 범위에서 원하는 개수만큼 등간격 1차원 배열을 생성한다.abs\n",
    "print(np.linspace(1, 10, 7))"
   ]
  },
  {
   "cell_type": "code",
   "execution_count": 37,
   "id": "4cbd73db-1711-4ff3-b7c5-2cc4f6048177",
   "metadata": {},
   "outputs": [
    {
     "name": "stdout",
     "output_type": "stream",
     "text": [
      "99 shape: () dim: 0\n",
      "[1 2 3 4] shape: (4,) dim: 1\n",
      "[[1 2 3 4]] shape: (1, 4) dim: 2\n",
      "[[1]\n",
      " [2]\n",
      " [3]\n",
      " [4]] shape: (4, 1) dim: 2\n"
     ]
    }
   ],
   "source": [
    "a=np.array(99)\n",
    "b=np.array([1,2,3,4])\n",
    "c=np.array([[1,2,3,4]]) # 행벡터\n",
    "d=np.array([[1],[2],[3],[4]]) # 열벡터\n",
    "print(f'{a} shape: {a.shape} dim: {a.ndim}')\n",
    "print(f'{b} shape: {b.shape} dim: {b.ndim}')\n",
    "print(f'{c} shape: {c.shape} dim: {c.ndim}')\n",
    "print(f'{d} shape: {d.shape} dim: {d.ndim}')"
   ]
  },
  {
   "cell_type": "code",
   "execution_count": 39,
   "id": "845d0ff4-1731-428f-b0f8-9fd301b1ae55",
   "metadata": {},
   "outputs": [],
   "source": [
    "x = np.array([[11,12,13] , [21,22,23], [31, 32, 33], [41, 42, 43], [51,52,53], [61, 62, 63]])\n",
    "x.shape = (3,6)"
   ]
  },
  {
   "cell_type": "code",
   "execution_count": 43,
   "id": "d09757e4-9fef-4c0b-930c-927ab3d98595",
   "metadata": {},
   "outputs": [
    {
     "name": "stdout",
     "output_type": "stream",
     "text": [
      "[[11 12 13 21 22 23]\n",
      " [31 32 33 41 42 43]\n",
      " [51 52 53 61 62 63]]\n"
     ]
    }
   ],
   "source": [
    "print(x)\n",
    "# reshape을 할 때는 전체 원소수가 맞아야 함."
   ]
  },
  {
   "cell_type": "code",
   "execution_count": 2,
   "id": "530991f0-d532-4ce6-96a1-4f9ef436c2a5",
   "metadata": {},
   "outputs": [
    {
     "name": "stdout",
     "output_type": "stream",
     "text": [
      "[[0.76868591 0.34575991 0.87575525]\n",
      " [0.25878404 0.04934914 0.79962609]\n",
      " [0.11818111 0.90569939 0.7508194 ]]\n"
     ]
    }
   ],
   "source": [
    "import numpy as np\n",
    "data = np.random.rand(3,3)\n",
    "print(data)"
   ]
  },
  {
   "cell_type": "code",
   "execution_count": 8,
   "id": "43ba77c6-93a4-423f-a25c-884f660f9039",
   "metadata": {},
   "outputs": [
    {
     "name": "stdout",
     "output_type": "stream",
     "text": [
      "[[ True False  True]\n",
      " [False False  True]\n",
      " [False  True  True]]\n",
      "[0.76868591 0.87575525 0.79962609 0.90569939 0.7508194 ]\n",
      "[[0.         0.34575991 0.        ]\n",
      " [0.25878404 0.04934914 0.        ]\n",
      " [0.11818111 0.         0.        ]]\n"
     ]
    }
   ],
   "source": [
    "print(data > 0.5)\n",
    "print(data[data > 0.5])\n",
    "data[data > 0.5] = 0\n",
    "print(data)"
   ]
  },
  {
   "cell_type": "code",
   "execution_count": null,
   "id": "c89d271e-0e0f-4837-bd51-9419cd4210df",
   "metadata": {},
   "outputs": [],
   "source": [
    "# 배열에 수치형 값을 넣으면 모든 원소가 바뀌는데 이를 브로드 캐스팅이라고 함.\n"
   ]
  },
  {
   "cell_type": "code",
   "execution_count": 14,
   "id": "8a6e78f4-13db-4771-a9b8-c65f2272cf86",
   "metadata": {},
   "outputs": [
    {
     "data": {
      "text/plain": [
       "array([[15],\n",
       "       [25],\n",
       "       [35],\n",
       "       [45],\n",
       "       [55]])"
      ]
     },
     "execution_count": 14,
     "metadata": {},
     "output_type": "execute_result"
    }
   ],
   "source": [
    "# 배열의 슬라이싱\n",
    "\n",
    "A = np.array([\n",
    "    [11, 12, 13, 14, 15],\n",
    "    [21, 22, 23, 24, 25],\n",
    "    [31, 32, 33, 34, 35],\n",
    "    [41, 42, 43, 44, 45],\n",
    "    [51, 52, 53, 54, 55],\n",
    "])\n",
    "A[3:, 4:]\n",
    "A[:, 4:]\n",
    "             "
   ]
  },
  {
   "cell_type": "code",
   "execution_count": 16,
   "id": "8073922c-7b57-477f-bd2b-9dcf6a4f0f88",
   "metadata": {},
   "outputs": [
    {
     "name": "stdout",
     "output_type": "stream",
     "text": [
      "[[111 112]\n",
      " [121 122]]\n"
     ]
    }
   ],
   "source": [
    "B = np.array([ [[111, 112], [121, 122]],\n",
    "[[211, 212], [221, 222]],\n",
    "[[311, 312], [321, 322]] ])\n",
    "print(B[0, ...])"
   ]
  },
  {
   "cell_type": "code",
   "execution_count": 24,
   "id": "97e9529d-a373-417a-8bcc-c3e52e8560a5",
   "metadata": {},
   "outputs": [
    {
     "name": "stdout",
     "output_type": "stream",
     "text": [
      "[ 0  1  2  3  4  5  6  7  8  9 10 11 12 13 14 15 16 17 18 19 20 21 22 23]\n",
      "[[[ 0  1  2  3]\n",
      "  [ 4  5  6  7]]\n",
      "\n",
      " [[ 8  9 10 11]\n",
      "  [12 13 14 15]]\n",
      "\n",
      " [[16 17 18 19]\n",
      "  [20 21 22 23]]]\n"
     ]
    }
   ],
   "source": [
    "a = np.arange(2*3*4)\n",
    "print(a)\n",
    "t = a.reshape(3, 2, 4)\n",
    "print(t)"
   ]
  },
  {
   "cell_type": "code",
   "execution_count": 32,
   "id": "0d0aeaa3-a613-4033-852d-bc0aaa6f02fa",
   "metadata": {},
   "outputs": [],
   "source": [
    "A = np.arange(28).reshape(7,-1)"
   ]
  },
  {
   "cell_type": "code",
   "execution_count": 34,
   "id": "7f564c95-f342-4249-88fb-8b1b296f9490",
   "metadata": {},
   "outputs": [
    {
     "data": {
      "text/plain": [
       "array([[ 0,  1,  2,  3],\n",
       "       [ 4,  5,  6,  7],\n",
       "       [ 8,  9, 10, 11],\n",
       "       [12, 13, 14, 15],\n",
       "       [16, 17, 18, 19],\n",
       "       [20, 21, 22, 23],\n",
       "       [24, 25, 26, 27]])"
      ]
     },
     "execution_count": 34,
     "metadata": {},
     "output_type": "execute_result"
    }
   ],
   "source": [
    "A"
   ]
  },
  {
   "cell_type": "code",
   "execution_count": null,
   "id": "c1be0409-1527-43bf-bb4f-fe8fecf8ded9",
   "metadata": {},
   "outputs": [],
   "source": [
    "import matplotlib.pyplot as plt\n",
    "v = np.array([[0,0], [10,0], [0,10]])\n",
    "v = np.vstack(v, v[0, :])\n",
    "d = np.vstack             "
   ]
  }
 ],
 "metadata": {
  "kernelspec": {
   "display_name": "Python 3 (ipykernel)",
   "language": "python",
   "name": "python3"
  },
  "language_info": {
   "codemirror_mode": {
    "name": "ipython",
    "version": 3
   },
   "file_extension": ".py",
   "mimetype": "text/x-python",
   "name": "python",
   "nbconvert_exporter": "python",
   "pygments_lexer": "ipython3",
   "version": "3.12.4"
  }
 },
 "nbformat": 4,
 "nbformat_minor": 5
}

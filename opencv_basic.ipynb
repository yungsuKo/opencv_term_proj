{
 "cells": [
  {
   "cell_type": "code",
   "execution_count": 1,
   "id": "2e12c230-f6a2-4aa6-a47f-cb54f08f0d25",
   "metadata": {},
   "outputs": [],
   "source": [
    "import numpy as np\n",
    "import cv2\n",
    "import random as r"
   ]
  },
  {
   "cell_type": "code",
   "execution_count": 3,
   "id": "1987b274-4189-4f94-a1cc-fc6e8e6bb6a3",
   "metadata": {},
   "outputs": [],
   "source": [
    "black = np.zeros((40, 40) , dtype =  np.uint8)\n",
    "white = np.ones((40, 40) , dtype =  np.uint8) * 255\n",
    "W, H = 400, 400"
   ]
  },
  {
   "cell_type": "code",
   "execution_count": 7,
   "id": "c0173d76-325e-4058-9d5b-2d7a6d07ae7e",
   "metadata": {},
   "outputs": [
    {
     "name": "stderr",
     "output_type": "stream",
     "text": [
      "2024-12-09 21:55:20.744 python[72673:24620609] _TIPropertyValueIsValid called with 16 on nil context!\n",
      "2024-12-09 21:55:20.744 python[72673:24620609] imkxpc_getApplicationProperty:reply: called with incorrect property value 16, bailing.\n",
      "2024-12-09 21:55:20.744 python[72673:24620609] Text input context does not respond to _valueForTIProperty:\n"
     ]
    },
    {
     "ename": "KeyboardInterrupt",
     "evalue": "",
     "output_type": "error",
     "traceback": [
      "\u001b[0;31m---------------------------------------------------------------------------\u001b[0m",
      "\u001b[0;31mKeyboardInterrupt\u001b[0m                         Traceback (most recent call last)",
      "Cell \u001b[0;32mIn[7], line 17\u001b[0m\n\u001b[1;32m     15\u001b[0m \u001b[38;5;66;03m# 창이 닫히도록 설정\u001b[39;00m\n\u001b[1;32m     16\u001b[0m \u001b[38;5;28;01mwhile\u001b[39;00m \u001b[38;5;28;01mTrue\u001b[39;00m:\n\u001b[0;32m---> 17\u001b[0m     \u001b[38;5;28;01mif\u001b[39;00m cv2\u001b[38;5;241m.\u001b[39mwaitKey(\u001b[38;5;241m1\u001b[39m) \u001b[38;5;241m&\u001b[39m \u001b[38;5;241m0xFF\u001b[39m \u001b[38;5;241m==\u001b[39m \u001b[38;5;28mord\u001b[39m(\u001b[38;5;124m'\u001b[39m\u001b[38;5;124mq\u001b[39m\u001b[38;5;124m'\u001b[39m):  \u001b[38;5;66;03m# 'q' 키를 누르면 종료\u001b[39;00m\n\u001b[1;32m     18\u001b[0m         \u001b[38;5;28;01mbreak\u001b[39;00m\n\u001b[1;32m     20\u001b[0m \u001b[38;5;66;03m# 리소스 해제 및 창 닫기\u001b[39;00m\n",
      "\u001b[0;31mKeyboardInterrupt\u001b[0m: "
     ]
    }
   ],
   "source": [
    "# res = np.block([[white if r.randint(0, 1) else black for j in range(20)] for i in range(20)])\n",
    "\n",
    "\n",
    "\n",
    "\n",
    "\n",
    "\n",
    "\n",
    "\n",
    "\n",
    "\n",
    "res = np.block([[white if (i+j)%2 == 1 else black for j in range(20)] for i in range(20)])\n",
    "cv2.imshow(\"res\", res)\n",
    "\n",
    "# 창이 닫히도록 설정\n",
    "while True:\n",
    "    if cv2.waitKey(1) & 0xFF == ord('q'):  # 'q' 키를 누르면 종료\n",
    "        break\n",
    "\n",
    "# 리소스 해제 및 창 닫기\n",
    "cv2.destroyAllWindows()"
   ]
  },
  {
   "cell_type": "code",
   "execution_count": null,
   "id": "4b207297-382f-432a-aa9a-f17575e56288",
   "metadata": {},
   "outputs": [],
   "source": []
  }
 ],
 "metadata": {
  "kernelspec": {
   "display_name": "Python 3 (ipykernel)",
   "language": "python",
   "name": "python3"
  },
  "language_info": {
   "codemirror_mode": {
    "name": "ipython",
    "version": 3
   },
   "file_extension": ".py",
   "mimetype": "text/x-python",
   "name": "python",
   "nbconvert_exporter": "python",
   "pygments_lexer": "ipython3",
   "version": "3.12.4"
  }
 },
 "nbformat": 4,
 "nbformat_minor": 5
}
